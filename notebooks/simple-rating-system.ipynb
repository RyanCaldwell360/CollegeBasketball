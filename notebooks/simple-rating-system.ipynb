{
 "cells": [
  {
   "cell_type": "markdown",
   "id": "6f4ba474",
   "metadata": {},
   "source": [
    "This notebook is inspired by the following blog: https://blog.collegefootballdata.com/talking-tech-bu/"
   ]
  },
  {
   "cell_type": "code",
   "execution_count": 1,
   "id": "df9cfb5f",
   "metadata": {
    "_cell_guid": "b1076dfc-b9ad-4769-8c92-a6c4dae69d19",
    "_uuid": "8f2839f25d086af736a60e9eeb907d3b93b6e0e5",
    "execution": {
     "iopub.execute_input": "2024-03-24T23:49:40.386979Z",
     "iopub.status.busy": "2024-03-24T23:49:40.386276Z",
     "iopub.status.idle": "2024-03-24T23:49:41.478155Z",
     "shell.execute_reply": "2024-03-24T23:49:41.476573Z"
    },
    "papermill": {
     "duration": 1.108556,
     "end_time": "2024-03-24T23:49:41.481373",
     "exception": false,
     "start_time": "2024-03-24T23:49:40.372817",
     "status": "completed"
    },
    "tags": []
   },
   "outputs": [],
   "source": [
    "import numpy as np\n",
    "import pandas as pd\n",
    "import matplotlib.pyplot as plt"
   ]
  },
  {
   "cell_type": "code",
   "execution_count": 2,
   "id": "9ce4ece0",
   "metadata": {
    "execution": {
     "iopub.execute_input": "2024-03-24T23:49:41.506946Z",
     "iopub.status.busy": "2024-03-24T23:49:41.505086Z",
     "iopub.status.idle": "2024-03-24T23:49:41.513776Z",
     "shell.execute_reply": "2024-03-24T23:49:41.512841Z"
    },
    "papermill": {
     "duration": 0.023866,
     "end_time": "2024-03-24T23:49:41.516410",
     "exception": false,
     "start_time": "2024-03-24T23:49:41.492544",
     "status": "completed"
    },
    "tags": []
   },
   "outputs": [],
   "source": [
    "pd.set_option('display.max_columns', None)"
   ]
  },
  {
   "cell_type": "markdown",
   "id": "08b92db4",
   "metadata": {
    "papermill": {
     "duration": 0.010149,
     "end_time": "2024-03-24T23:49:41.537343",
     "exception": false,
     "start_time": "2024-03-24T23:49:41.527194",
     "status": "completed"
    },
    "tags": []
   },
   "source": [
    "# Read in Data"
   ]
  },
  {
   "cell_type": "markdown",
   "id": "0ee5fa05",
   "metadata": {
    "papermill": {
     "duration": 0.010032,
     "end_time": "2024-03-24T23:49:41.557957",
     "exception": false,
     "start_time": "2024-03-24T23:49:41.547925",
     "status": "completed"
    },
    "tags": []
   },
   "source": [
    "#### Game Details"
   ]
  },
  {
   "cell_type": "code",
   "execution_count": 3,
   "id": "2556ad81",
   "metadata": {
    "execution": {
     "iopub.execute_input": "2024-03-24T23:49:41.581296Z",
     "iopub.status.busy": "2024-03-24T23:49:41.580861Z",
     "iopub.status.idle": "2024-03-24T23:49:42.204352Z",
     "shell.execute_reply": "2024-03-24T23:49:42.202833Z"
    },
    "papermill": {
     "duration": 0.638884,
     "end_time": "2024-03-24T23:49:42.207341",
     "exception": false,
     "start_time": "2024-03-24T23:49:41.568457",
     "status": "completed"
    },
    "tags": []
   },
   "outputs": [
    {
     "data": {
      "text/plain": [
       "(113241, 34)"
      ]
     },
     "execution_count": 3,
     "metadata": {},
     "output_type": "execute_result"
    }
   ],
   "source": [
    "reg_season = pd.read_csv('../data/MRegularSeasonDetailedResults.csv')\n",
    "reg_season.shape"
   ]
  },
  {
   "cell_type": "markdown",
   "id": "c727429c",
   "metadata": {
    "papermill": {
     "duration": 0.010702,
     "end_time": "2024-03-24T23:49:42.229308",
     "exception": false,
     "start_time": "2024-03-24T23:49:42.218606",
     "status": "completed"
    },
    "tags": []
   },
   "source": [
    "#### Team Names"
   ]
  },
  {
   "cell_type": "code",
   "execution_count": 4,
   "id": "e1361eae",
   "metadata": {
    "execution": {
     "iopub.execute_input": "2024-03-24T23:49:42.255642Z",
     "iopub.status.busy": "2024-03-24T23:49:42.254502Z",
     "iopub.status.idle": "2024-03-24T23:49:42.273876Z",
     "shell.execute_reply": "2024-03-24T23:49:42.272316Z"
    },
    "papermill": {
     "duration": 0.034921,
     "end_time": "2024-03-24T23:49:42.276653",
     "exception": false,
     "start_time": "2024-03-24T23:49:42.241732",
     "status": "completed"
    },
    "tags": []
   },
   "outputs": [
    {
     "data": {
      "text/plain": [
       "(378, 2)"
      ]
     },
     "execution_count": 4,
     "metadata": {},
     "output_type": "execute_result"
    }
   ],
   "source": [
    "teams = pd.read_csv('../data/MTeams.csv',\n",
    "                    usecols=['TeamID','TeamName'])\n",
    "teams.shape"
   ]
  },
  {
   "cell_type": "markdown",
   "id": "c003770e",
   "metadata": {
    "papermill": {
     "duration": 0.01125,
     "end_time": "2024-03-24T23:49:42.300189",
     "exception": false,
     "start_time": "2024-03-24T23:49:42.288939",
     "status": "completed"
    },
    "tags": []
   },
   "source": [
    "#### Conferences"
   ]
  },
  {
   "cell_type": "code",
   "execution_count": 5,
   "id": "f66599b7",
   "metadata": {
    "execution": {
     "iopub.execute_input": "2024-03-24T23:49:42.325995Z",
     "iopub.status.busy": "2024-03-24T23:49:42.325204Z",
     "iopub.status.idle": "2024-03-24T23:49:42.358294Z",
     "shell.execute_reply": "2024-03-24T23:49:42.357259Z"
    },
    "papermill": {
     "duration": 0.049473,
     "end_time": "2024-03-24T23:49:42.360937",
     "exception": false,
     "start_time": "2024-03-24T23:49:42.311464",
     "status": "completed"
    },
    "tags": []
   },
   "outputs": [],
   "source": [
    "conf = pd.read_csv('../data/MTeamConferences.csv')"
   ]
  },
  {
   "cell_type": "markdown",
   "id": "62205123",
   "metadata": {
    "papermill": {
     "duration": 0.011558,
     "end_time": "2024-03-24T23:49:42.383705",
     "exception": false,
     "start_time": "2024-03-24T23:49:42.372147",
     "status": "completed"
    },
    "tags": []
   },
   "source": [
    "# Create Game Id"
   ]
  },
  {
   "cell_type": "code",
   "execution_count": 6,
   "id": "c68ae0bd",
   "metadata": {
    "execution": {
     "iopub.execute_input": "2024-03-24T23:49:42.409983Z",
     "iopub.status.busy": "2024-03-24T23:49:42.409125Z",
     "iopub.status.idle": "2024-03-24T23:49:42.418315Z",
     "shell.execute_reply": "2024-03-24T23:49:42.417062Z"
    },
    "papermill": {
     "duration": 0.02582,
     "end_time": "2024-03-24T23:49:42.421096",
     "exception": false,
     "start_time": "2024-03-24T23:49:42.395276",
     "status": "completed"
    },
    "tags": []
   },
   "outputs": [],
   "source": [
    "reg_season['GameID'] = reg_season.index"
   ]
  },
  {
   "cell_type": "markdown",
   "id": "d33559d9",
   "metadata": {
    "papermill": {
     "duration": 0.010839,
     "end_time": "2024-03-24T23:49:42.444056",
     "exception": false,
     "start_time": "2024-03-24T23:49:42.433217",
     "status": "completed"
    },
    "tags": []
   },
   "source": [
    "# Most Recent Season"
   ]
  },
  {
   "cell_type": "code",
   "execution_count": 7,
   "id": "b189a776",
   "metadata": {
    "execution": {
     "iopub.execute_input": "2024-03-24T23:49:42.469664Z",
     "iopub.status.busy": "2024-03-24T23:49:42.468696Z",
     "iopub.status.idle": "2024-03-24T23:49:42.488221Z",
     "shell.execute_reply": "2024-03-24T23:49:42.487206Z"
    },
    "papermill": {
     "duration": 0.035105,
     "end_time": "2024-03-24T23:49:42.490492",
     "exception": false,
     "start_time": "2024-03-24T23:49:42.455387",
     "status": "completed"
    },
    "tags": []
   },
   "outputs": [
    {
     "data": {
      "text/plain": [
       "(5607, 35)"
      ]
     },
     "execution_count": 7,
     "metadata": {},
     "output_type": "execute_result"
    }
   ],
   "source": [
    "recent = reg_season[reg_season['Season'] == 2024].reset_index(drop=True)\n",
    "recent.shape"
   ]
  },
  {
   "cell_type": "markdown",
   "id": "c7aed2ea",
   "metadata": {
    "papermill": {
     "duration": 0.010906,
     "end_time": "2024-03-24T23:49:42.513266",
     "exception": false,
     "start_time": "2024-03-24T23:49:42.502360",
     "status": "completed"
    },
    "tags": []
   },
   "source": [
    "# Restructure Data into Home/Away Matchups\n",
    "\n",
    "This data is structured based on the Winner vs Loser, and all of their stats, however I want it to be Away vs Home instead."
   ]
  },
  {
   "cell_type": "code",
   "execution_count": 8,
   "id": "146824ce",
   "metadata": {
    "execution": {
     "iopub.execute_input": "2024-03-24T23:49:42.539307Z",
     "iopub.status.busy": "2024-03-24T23:49:42.538495Z",
     "iopub.status.idle": "2024-03-24T23:49:42.561061Z",
     "shell.execute_reply": "2024-03-24T23:49:42.560142Z"
    },
    "papermill": {
     "duration": 0.037975,
     "end_time": "2024-03-24T23:49:42.563556",
     "exception": false,
     "start_time": "2024-03-24T23:49:42.525581",
     "status": "completed"
    },
    "tags": []
   },
   "outputs": [
    {
     "data": {
      "text/plain": [
       "WLoc\n",
       "H    0.649899\n",
       "A    0.350101\n",
       "Name: proportion, dtype: float64"
      ]
     },
     "execution_count": 8,
     "metadata": {},
     "output_type": "execute_result"
    }
   ],
   "source": [
    "recent[recent['WLoc'] != 'N']['WLoc'].value_counts(normalize=True)"
   ]
  },
  {
   "cell_type": "markdown",
   "id": "3c395089",
   "metadata": {
    "papermill": {
     "duration": 0.011412,
     "end_time": "2024-03-24T23:49:42.587035",
     "exception": false,
     "start_time": "2024-03-24T23:49:42.575623",
     "status": "completed"
    },
    "tags": []
   },
   "source": [
    "# Only Consider Home/Away For Now\n",
    "\n",
    "For now let's not worry about neutral court games. I need to think more about how to restructure this into away/home matchups."
   ]
  },
  {
   "cell_type": "code",
   "execution_count": 9,
   "id": "58200bcb",
   "metadata": {
    "execution": {
     "iopub.execute_input": "2024-03-24T23:49:42.613119Z",
     "iopub.status.busy": "2024-03-24T23:49:42.612280Z",
     "iopub.status.idle": "2024-03-24T23:49:42.641253Z",
     "shell.execute_reply": "2024-03-24T23:49:42.639826Z"
    },
    "papermill": {
     "duration": 0.045456,
     "end_time": "2024-03-24T23:49:42.644075",
     "exception": false,
     "start_time": "2024-03-24T23:49:42.598619",
     "status": "completed"
    },
    "tags": []
   },
   "outputs": [
    {
     "data": {
      "text/plain": [
       "(4970, 3)"
      ]
     },
     "execution_count": 9,
     "metadata": {},
     "output_type": "execute_result"
    }
   ],
   "source": [
    "matchups = recent[recent['WLoc'] != 'N'][['GameID','WTeamID','LTeamID','WLoc']].copy()\n",
    "\n",
    "# Away team\n",
    "matchups.loc[matchups['WLoc'] == 'A', 'ATeamID'] = matchups['WTeamID']\n",
    "matchups.loc[matchups['WLoc'] == 'H', 'ATeamID'] = matchups['LTeamID']\n",
    "\n",
    "# Home team\n",
    "matchups.loc[matchups['WLoc'] == 'A', 'HTeamID'] = matchups['LTeamID']\n",
    "matchups.loc[matchups['WLoc'] == 'H', 'HTeamID'] = matchups['WTeamID']\n",
    "\n",
    "matchups[['ATeamID','HTeamID']] = matchups[['ATeamID','HTeamID']].astype(int)\n",
    "matchups = matchups.drop(['WTeamID','LTeamID','WLoc'], axis=1)\n",
    "matchups.shape"
   ]
  },
  {
   "cell_type": "markdown",
   "id": "1cd27bd0",
   "metadata": {
    "papermill": {
     "duration": 0.0117,
     "end_time": "2024-03-24T23:49:42.667864",
     "exception": false,
     "start_time": "2024-03-24T23:49:42.656164",
     "status": "completed"
    },
    "tags": []
   },
   "source": [
    "#### Get Stats Formatted"
   ]
  },
  {
   "cell_type": "code",
   "execution_count": 10,
   "id": "d5e4bc38",
   "metadata": {
    "execution": {
     "iopub.execute_input": "2024-03-24T23:49:42.694537Z",
     "iopub.status.busy": "2024-03-24T23:49:42.693788Z",
     "iopub.status.idle": "2024-03-24T23:49:42.709865Z",
     "shell.execute_reply": "2024-03-24T23:49:42.708573Z"
    },
    "papermill": {
     "duration": 0.032839,
     "end_time": "2024-03-24T23:49:42.712620",
     "exception": false,
     "start_time": "2024-03-24T23:49:42.679781",
     "status": "completed"
    },
    "tags": []
   },
   "outputs": [
    {
     "data": {
      "text/plain": [
       "(11214, 16)"
      ]
     },
     "execution_count": 10,
     "metadata": {},
     "output_type": "execute_result"
    }
   ],
   "source": [
    "# column names\n",
    "wcols = [c for c in recent.columns if c[0] == 'W']\n",
    "lcols = [c for c in recent.columns if c[0] == 'L']\n",
    "\n",
    "# separate winners/losers\n",
    "winners = recent[['GameID']+wcols]\n",
    "losers = recent[['GameID']+lcols]\n",
    "\n",
    "# rename columns\n",
    "winners.columns = ['GameID']+[c[1:] for c in wcols]\n",
    "losers.columns = ['GameID']+[c[1:] for c in lcols]\n",
    "\n",
    "# combine into 1 outcome dataframe\n",
    "outcomes = pd.concat([winners, losers])\\\n",
    "             .drop('Loc', axis=1)\n",
    "outcomes.shape"
   ]
  },
  {
   "cell_type": "markdown",
   "id": "6b1b9b69",
   "metadata": {
    "papermill": {
     "duration": 0.011512,
     "end_time": "2024-03-24T23:49:42.736104",
     "exception": false,
     "start_time": "2024-03-24T23:49:42.724592",
     "status": "completed"
    },
    "tags": []
   },
   "source": [
    "#### Bring Stats into Away/Home Matchup Dataframe"
   ]
  },
  {
   "cell_type": "code",
   "execution_count": 11,
   "id": "3db551a0",
   "metadata": {
    "execution": {
     "iopub.execute_input": "2024-03-24T23:49:42.762072Z",
     "iopub.status.busy": "2024-03-24T23:49:42.761394Z",
     "iopub.status.idle": "2024-03-24T23:49:42.788547Z",
     "shell.execute_reply": "2024-03-24T23:49:42.787087Z"
    },
    "papermill": {
     "duration": 0.043268,
     "end_time": "2024-03-24T23:49:42.791286",
     "exception": false,
     "start_time": "2024-03-24T23:49:42.748018",
     "status": "completed"
    },
    "tags": []
   },
   "outputs": [
    {
     "data": {
      "text/plain": [
       "(4970, 17)"
      ]
     },
     "execution_count": 11,
     "metadata": {},
     "output_type": "execute_result"
    }
   ],
   "source": [
    "# Away stats\n",
    "matchups = pd.merge(matchups, outcomes, left_on=['GameID','ATeamID'], right_on=['GameID','TeamID'], how='left')\n",
    "matchups = matchups.drop(['TeamID'], axis=1)\n",
    "\n",
    "# Away columns names\n",
    "away_cols = ['GameID','ATeamID','HTeamID']+['A{}'.format(c) for c in matchups.columns if c not in ['GameID','ATeamID','HTeamID']]\n",
    "matchups.columns = away_cols\n",
    "\n",
    "matchups.shape"
   ]
  },
  {
   "cell_type": "code",
   "execution_count": 12,
   "id": "03b5c4eb",
   "metadata": {
    "execution": {
     "iopub.execute_input": "2024-03-24T23:49:42.817965Z",
     "iopub.status.busy": "2024-03-24T23:49:42.817292Z",
     "iopub.status.idle": "2024-03-24T23:49:42.833224Z",
     "shell.execute_reply": "2024-03-24T23:49:42.832316Z"
    },
    "papermill": {
     "duration": 0.032742,
     "end_time": "2024-03-24T23:49:42.836152",
     "exception": false,
     "start_time": "2024-03-24T23:49:42.803410",
     "status": "completed"
    },
    "tags": []
   },
   "outputs": [
    {
     "data": {
      "text/plain": [
       "(4970, 31)"
      ]
     },
     "execution_count": 12,
     "metadata": {},
     "output_type": "execute_result"
    }
   ],
   "source": [
    "# Away stats\n",
    "matchups = pd.merge(matchups, outcomes, left_on=['GameID','HTeamID'], right_on=['GameID','TeamID'], how='left')\n",
    "matchups = matchups.drop(['TeamID'], axis=1)\n",
    "\n",
    "# Away columns names\n",
    "home_cols = away_cols+['H{}'.format(c) for c in matchups.columns if c not in away_cols]\n",
    "matchups.columns = home_cols\n",
    "\n",
    "matchups.shape"
   ]
  },
  {
   "cell_type": "markdown",
   "id": "2d6cc2e3",
   "metadata": {
    "papermill": {
     "duration": 0.013276,
     "end_time": "2024-03-24T23:49:42.861949",
     "exception": false,
     "start_time": "2024-03-24T23:49:42.848673",
     "status": "completed"
    },
    "tags": []
   },
   "source": [
    "# Winning Margin"
   ]
  },
  {
   "cell_type": "code",
   "execution_count": 13,
   "id": "baed16f8",
   "metadata": {
    "execution": {
     "iopub.execute_input": "2024-03-24T23:49:42.890071Z",
     "iopub.status.busy": "2024-03-24T23:49:42.889663Z",
     "iopub.status.idle": "2024-03-24T23:49:42.898690Z",
     "shell.execute_reply": "2024-03-24T23:49:42.896965Z"
    },
    "papermill": {
     "duration": 0.026038,
     "end_time": "2024-03-24T23:49:42.901436",
     "exception": false,
     "start_time": "2024-03-24T23:49:42.875398",
     "status": "completed"
    },
    "tags": []
   },
   "outputs": [],
   "source": [
    "# assuming 3 point home court advantage\n",
    "matchups['HMargin'] = matchups['HScore'] - matchups['AScore'] - 3\n",
    "matchups['AMargin'] = -1*matchups['HMargin']"
   ]
  },
  {
   "cell_type": "markdown",
   "id": "67fbe06c",
   "metadata": {
    "papermill": {
     "duration": 0.013026,
     "end_time": "2024-03-24T23:49:42.927522",
     "exception": false,
     "start_time": "2024-03-24T23:49:42.914496",
     "status": "completed"
    },
    "tags": []
   },
   "source": [
    "# Stacked Outcomes"
   ]
  },
  {
   "cell_type": "code",
   "execution_count": 14,
   "id": "cae79ccf",
   "metadata": {
    "execution": {
     "iopub.execute_input": "2024-03-24T23:49:42.954265Z",
     "iopub.status.busy": "2024-03-24T23:49:42.953900Z",
     "iopub.status.idle": "2024-03-24T23:49:42.967624Z",
     "shell.execute_reply": "2024-03-24T23:49:42.966158Z"
    },
    "papermill": {
     "duration": 0.030738,
     "end_time": "2024-03-24T23:49:42.970276",
     "exception": false,
     "start_time": "2024-03-24T23:49:42.939538",
     "status": "completed"
    },
    "tags": []
   },
   "outputs": [
    {
     "name": "stdout",
     "output_type": "stream",
     "text": [
      "(4970, 4) (4970, 4) (9940, 4)\n"
     ]
    }
   ],
   "source": [
    "away_outcomes = matchups[['GameID','ATeamID','HTeamID','AMargin']].rename(columns={'ATeamID':'Team', 'HTeamID':'Opponent', 'AMargin':'Margin'})\n",
    "home_outcomes = matchups[['GameID','HTeamID','ATeamID','HMargin']].rename(columns={'HTeamID':'Team', 'ATeamID':'Opponent', 'HMargin':'Margin'})\n",
    "outcomes = pd.concat([away_outcomes, home_outcomes], axis=0)\n",
    "print(away_outcomes.shape, home_outcomes.shape, outcomes.shape)"
   ]
  },
  {
   "cell_type": "markdown",
   "id": "5f365a6f",
   "metadata": {
    "papermill": {
     "duration": 0.012153,
     "end_time": "2024-03-24T23:49:42.995192",
     "exception": false,
     "start_time": "2024-03-24T23:49:42.983039",
     "status": "completed"
    },
    "tags": []
   },
   "source": [
    "# Average Margins by Team"
   ]
  },
  {
   "cell_type": "code",
   "execution_count": 15,
   "id": "4a52340a",
   "metadata": {
    "execution": {
     "iopub.execute_input": "2024-03-24T23:49:43.023209Z",
     "iopub.status.busy": "2024-03-24T23:49:43.022806Z",
     "iopub.status.idle": "2024-03-24T23:49:43.031934Z",
     "shell.execute_reply": "2024-03-24T23:49:43.030981Z"
    },
    "papermill": {
     "duration": 0.025929,
     "end_time": "2024-03-24T23:49:43.034245",
     "exception": false,
     "start_time": "2024-03-24T23:49:43.008316",
     "status": "completed"
    },
    "tags": []
   },
   "outputs": [],
   "source": [
    "margins = outcomes.groupby('Team').Margin.mean()"
   ]
  },
  {
   "cell_type": "markdown",
   "id": "f071151e",
   "metadata": {
    "papermill": {
     "duration": 0.013916,
     "end_time": "2024-03-24T23:49:43.060651",
     "exception": false,
     "start_time": "2024-03-24T23:49:43.046735",
     "status": "completed"
    },
    "tags": []
   },
   "source": [
    "# SRS"
   ]
  },
  {
   "cell_type": "code",
   "execution_count": 16,
   "id": "5878ad2c",
   "metadata": {
    "execution": {
     "iopub.execute_input": "2024-03-24T23:49:43.087954Z",
     "iopub.status.busy": "2024-03-24T23:49:43.087220Z",
     "iopub.status.idle": "2024-03-24T23:49:43.342895Z",
     "shell.execute_reply": "2024-03-24T23:49:43.341642Z"
    },
    "papermill": {
     "duration": 0.272616,
     "end_time": "2024-03-24T23:49:43.345898",
     "exception": false,
     "start_time": "2024-03-24T23:49:43.073282",
     "status": "completed"
    },
    "tags": []
   },
   "outputs": [],
   "source": [
    "# create empty arrays\n",
    "terms = []\n",
    "solutions = []\n",
    "\n",
    "for team in margins.keys():\n",
    "    row = []\n",
    "    # get a list of team opponents\n",
    "    opps = list(outcomes[outcomes['Team'] == team]['Opponent'])\n",
    "\n",
    "    for opp in margins.keys():\n",
    "        if opp == team:\n",
    "        \t# coefficient for the team should be 1\n",
    "            row.append(1)\n",
    "        elif opp in opps:\n",
    "        \t# coefficient for opponents should be 1 over the number of opponents\n",
    "            row.append(-1.0/len(opps))\n",
    "        else:\n",
    "        \t# teams not faced get a coefficient of 0\n",
    "            row.append(0)\n",
    "\n",
    "    terms.append(row)\n",
    "\n",
    "    # average game spread on the other side of the equation\n",
    "    solutions.append(margins[team])"
   ]
  },
  {
   "cell_type": "code",
   "execution_count": 17,
   "id": "63abb371",
   "metadata": {
    "execution": {
     "iopub.execute_input": "2024-03-24T23:49:43.372455Z",
     "iopub.status.busy": "2024-03-24T23:49:43.371967Z",
     "iopub.status.idle": "2024-03-24T23:49:43.415665Z",
     "shell.execute_reply": "2024-03-24T23:49:43.414155Z"
    },
    "papermill": {
     "duration": 0.062288,
     "end_time": "2024-03-24T23:49:43.420308",
     "exception": false,
     "start_time": "2024-03-24T23:49:43.358020",
     "status": "completed"
    },
    "tags": []
   },
   "outputs": [
    {
     "data": {
      "text/plain": [
       "362"
      ]
     },
     "execution_count": 17,
     "metadata": {},
     "output_type": "execute_result"
    }
   ],
   "source": [
    "solutions = np.linalg.solve(np.array(terms), np.array(solutions))\n",
    "len(solutions)"
   ]
  },
  {
   "cell_type": "code",
   "execution_count": 18,
   "id": "91d3e0c0",
   "metadata": {
    "execution": {
     "iopub.execute_input": "2024-03-24T23:49:43.475464Z",
     "iopub.status.busy": "2024-03-24T23:49:43.474711Z",
     "iopub.status.idle": "2024-03-24T23:49:43.512642Z",
     "shell.execute_reply": "2024-03-24T23:49:43.511167Z"
    },
    "papermill": {
     "duration": 0.070657,
     "end_time": "2024-03-24T23:49:43.517714",
     "exception": false,
     "start_time": "2024-03-24T23:49:43.447057",
     "status": "completed"
    },
    "tags": []
   },
   "outputs": [
    {
     "data": {
      "text/plain": [
       "(362, 5)"
      ]
     },
     "execution_count": 18,
     "metadata": {},
     "output_type": "execute_result"
    }
   ],
   "source": [
    "ratings = list(zip(margins.keys(), solutions))\n",
    "srs = pd.DataFrame(ratings, columns=['TeamID', 'srs'])\n",
    "srs['Season'] = 2024\n",
    "srs = pd.merge(teams, srs, on='TeamID', how='inner')\n",
    "srs = pd.merge(srs, conf, on=['Season','TeamID'], how='inner')\n",
    "srs.shape"
   ]
  },
  {
   "cell_type": "markdown",
   "id": "94504103",
   "metadata": {},
   "source": [
    "# Summarize SRS"
   ]
  },
  {
   "cell_type": "code",
   "execution_count": 19,
   "id": "39a887b7",
   "metadata": {
    "execution": {
     "iopub.execute_input": "2024-03-24T23:49:43.551357Z",
     "iopub.status.busy": "2024-03-24T23:49:43.550924Z",
     "iopub.status.idle": "2024-03-24T23:49:43.574721Z",
     "shell.execute_reply": "2024-03-24T23:49:43.573527Z"
    },
    "papermill": {
     "duration": 0.043181,
     "end_time": "2024-03-24T23:49:43.578868",
     "exception": false,
     "start_time": "2024-03-24T23:49:43.535687",
     "status": "completed"
    },
    "tags": []
   },
   "outputs": [
    {
     "data": {
      "text/html": [
       "<div>\n",
       "<style scoped>\n",
       "    .dataframe tbody tr th:only-of-type {\n",
       "        vertical-align: middle;\n",
       "    }\n",
       "\n",
       "    .dataframe tbody tr th {\n",
       "        vertical-align: top;\n",
       "    }\n",
       "\n",
       "    .dataframe thead th {\n",
       "        text-align: right;\n",
       "    }\n",
       "</style>\n",
       "<table border=\"1\" class=\"dataframe\">\n",
       "  <thead>\n",
       "    <tr style=\"text-align: right;\">\n",
       "      <th></th>\n",
       "      <th>count</th>\n",
       "      <th>mean</th>\n",
       "      <th>std</th>\n",
       "      <th>min</th>\n",
       "      <th>25%</th>\n",
       "      <th>50%</th>\n",
       "      <th>75%</th>\n",
       "      <th>max</th>\n",
       "    </tr>\n",
       "  </thead>\n",
       "  <tbody>\n",
       "    <tr>\n",
       "      <th>srs</th>\n",
       "      <td>362.0</td>\n",
       "      <td>0.354637</td>\n",
       "      <td>7.342624</td>\n",
       "      <td>-20.926078</td>\n",
       "      <td>-4.302664</td>\n",
       "      <td>-0.12029</td>\n",
       "      <td>5.338115</td>\n",
       "      <td>21.767271</td>\n",
       "    </tr>\n",
       "  </tbody>\n",
       "</table>\n",
       "</div>"
      ],
      "text/plain": [
       "     count      mean       std        min       25%      50%       75%  \\\n",
       "srs  362.0  0.354637  7.342624 -20.926078 -4.302664 -0.12029  5.338115   \n",
       "\n",
       "           max  \n",
       "srs  21.767271  "
      ]
     },
     "execution_count": 19,
     "metadata": {},
     "output_type": "execute_result"
    }
   ],
   "source": [
    "srs[['srs']].describe().T"
   ]
  },
  {
   "cell_type": "code",
   "execution_count": 20,
   "id": "789d5a55",
   "metadata": {
    "execution": {
     "iopub.execute_input": "2024-03-24T23:49:43.607833Z",
     "iopub.status.busy": "2024-03-24T23:49:43.606993Z",
     "iopub.status.idle": "2024-03-24T23:49:43.621825Z",
     "shell.execute_reply": "2024-03-24T23:49:43.620564Z"
    },
    "papermill": {
     "duration": 0.032323,
     "end_time": "2024-03-24T23:49:43.624622",
     "exception": false,
     "start_time": "2024-03-24T23:49:43.592299",
     "status": "completed"
    },
    "tags": []
   },
   "outputs": [
    {
     "data": {
      "text/plain": [
       "(33, 2)"
      ]
     },
     "execution_count": 20,
     "metadata": {},
     "output_type": "execute_result"
    }
   ],
   "source": [
    "conf_srs = srs.groupby('ConfAbbrev')[['srs']].median().reset_index()\n",
    "conf_srs.columns = ['Conference','SRS']\n",
    "conf_srs = conf_srs.sort_values('SRS', ascending=True)\\\n",
    "                   .reset_index(drop=True)\n",
    "conf_srs.shape"
   ]
  },
  {
   "cell_type": "code",
   "execution_count": 21,
   "id": "2cc55469",
   "metadata": {
    "execution": {
     "iopub.execute_input": "2024-03-24T23:49:43.652652Z",
     "iopub.status.busy": "2024-03-24T23:49:43.652189Z",
     "iopub.status.idle": "2024-03-24T23:49:44.204539Z",
     "shell.execute_reply": "2024-03-24T23:49:44.203252Z"
    },
    "papermill": {
     "duration": 0.570143,
     "end_time": "2024-03-24T23:49:44.207406",
     "exception": false,
     "start_time": "2024-03-24T23:49:43.637263",
     "status": "completed"
    },
    "tags": []
   },
   "outputs": [
    {
     "data": {
      "image/png": "[encoded data removed]",
      "text/plain": [
       "<Figure size 1000x500 with 1 Axes>"
      ]
     },
     "metadata": {},
     "output_type": "display_data"
    }
   ],
   "source": [
    "plt.figure(figsize=(10,5))\n",
    "plt.bar(x=conf_srs['Conference'], height=conf_srs['SRS'])\n",
    "plt.title('2024 Conference SRS')\n",
    "plt.xlabel('Conference')\n",
    "plt.ylabel('Conference Median SRS')\n",
    "plt.xticks(rotation=90)\n",
    "plt.show()"
   ]
  },
  {
   "cell_type": "code",
   "execution_count": 23,
   "id": "29447c58",
   "metadata": {
    "papermill": {
     "duration": 0.01336,
     "end_time": "2024-03-24T23:49:44.236202",
     "exception": false,
     "start_time": "2024-03-24T23:49:44.222842",
     "status": "completed"
    },
    "tags": []
   },
   "outputs": [
    {
     "data": {
      "text/html": [
       "<div>\n",
       "<style scoped>\n",
       "    .dataframe tbody tr th:only-of-type {\n",
       "        vertical-align: middle;\n",
       "    }\n",
       "\n",
       "    .dataframe tbody tr th {\n",
       "        vertical-align: top;\n",
       "    }\n",
       "\n",
       "    .dataframe thead th {\n",
       "        text-align: right;\n",
       "    }\n",
       "</style>\n",
       "<table border=\"1\" class=\"dataframe\">\n",
       "  <thead>\n",
       "    <tr style=\"text-align: right;\">\n",
       "      <th></th>\n",
       "      <th>TeamID</th>\n",
       "      <th>TeamName</th>\n",
       "      <th>srs</th>\n",
       "      <th>Season</th>\n",
       "      <th>ConfAbbrev</th>\n",
       "    </tr>\n",
       "  </thead>\n",
       "  <tbody>\n",
       "    <tr>\n",
       "      <th>0</th>\n",
       "      <td>1222</td>\n",
       "      <td>Houston</td>\n",
       "      <td>21.767271</td>\n",
       "      <td>2024</td>\n",
       "      <td>big_twelve</td>\n",
       "    </tr>\n",
       "    <tr>\n",
       "      <th>1</th>\n",
       "      <td>1112</td>\n",
       "      <td>Arizona</td>\n",
       "      <td>20.138181</td>\n",
       "      <td>2024</td>\n",
       "      <td>pac_twelve</td>\n",
       "    </tr>\n",
       "    <tr>\n",
       "      <th>2</th>\n",
       "      <td>1345</td>\n",
       "      <td>Purdue</td>\n",
       "      <td>18.077183</td>\n",
       "      <td>2024</td>\n",
       "      <td>big_ten</td>\n",
       "    </tr>\n",
       "    <tr>\n",
       "      <th>3</th>\n",
       "      <td>1397</td>\n",
       "      <td>Tennessee</td>\n",
       "      <td>17.557444</td>\n",
       "      <td>2024</td>\n",
       "      <td>sec</td>\n",
       "    </tr>\n",
       "    <tr>\n",
       "      <th>4</th>\n",
       "      <td>1388</td>\n",
       "      <td>St Mary's CA</td>\n",
       "      <td>17.351457</td>\n",
       "      <td>2024</td>\n",
       "      <td>wcc</td>\n",
       "    </tr>\n",
       "    <tr>\n",
       "      <th>5</th>\n",
       "      <td>1235</td>\n",
       "      <td>Iowa St</td>\n",
       "      <td>17.020916</td>\n",
       "      <td>2024</td>\n",
       "      <td>big_twelve</td>\n",
       "    </tr>\n",
       "    <tr>\n",
       "      <th>6</th>\n",
       "      <td>1211</td>\n",
       "      <td>Gonzaga</td>\n",
       "      <td>17.001786</td>\n",
       "      <td>2024</td>\n",
       "      <td>wcc</td>\n",
       "    </tr>\n",
       "    <tr>\n",
       "      <th>7</th>\n",
       "      <td>1120</td>\n",
       "      <td>Auburn</td>\n",
       "      <td>16.953237</td>\n",
       "      <td>2024</td>\n",
       "      <td>sec</td>\n",
       "    </tr>\n",
       "    <tr>\n",
       "      <th>8</th>\n",
       "      <td>1163</td>\n",
       "      <td>Connecticut</td>\n",
       "      <td>15.966067</td>\n",
       "      <td>2024</td>\n",
       "      <td>big_east</td>\n",
       "    </tr>\n",
       "    <tr>\n",
       "      <th>9</th>\n",
       "      <td>1104</td>\n",
       "      <td>Alabama</td>\n",
       "      <td>15.634907</td>\n",
       "      <td>2024</td>\n",
       "      <td>sec</td>\n",
       "    </tr>\n",
       "    <tr>\n",
       "      <th>10</th>\n",
       "      <td>1314</td>\n",
       "      <td>North Carolina</td>\n",
       "      <td>15.470205</td>\n",
       "      <td>2024</td>\n",
       "      <td>acc</td>\n",
       "    </tr>\n",
       "    <tr>\n",
       "      <th>11</th>\n",
       "      <td>1124</td>\n",
       "      <td>Baylor</td>\n",
       "      <td>15.231179</td>\n",
       "      <td>2024</td>\n",
       "      <td>big_twelve</td>\n",
       "    </tr>\n",
       "    <tr>\n",
       "      <th>12</th>\n",
       "      <td>1181</td>\n",
       "      <td>Duke</td>\n",
       "      <td>15.184411</td>\n",
       "      <td>2024</td>\n",
       "      <td>acc</td>\n",
       "    </tr>\n",
       "    <tr>\n",
       "      <th>13</th>\n",
       "      <td>1140</td>\n",
       "      <td>BYU</td>\n",
       "      <td>14.480231</td>\n",
       "      <td>2024</td>\n",
       "      <td>big_twelve</td>\n",
       "    </tr>\n",
       "    <tr>\n",
       "      <th>14</th>\n",
       "      <td>1166</td>\n",
       "      <td>Creighton</td>\n",
       "      <td>13.567023</td>\n",
       "      <td>2024</td>\n",
       "      <td>big_east</td>\n",
       "    </tr>\n",
       "    <tr>\n",
       "      <th>15</th>\n",
       "      <td>1270</td>\n",
       "      <td>McNeese St</td>\n",
       "      <td>13.423995</td>\n",
       "      <td>2024</td>\n",
       "      <td>southland</td>\n",
       "    </tr>\n",
       "    <tr>\n",
       "      <th>16</th>\n",
       "      <td>1228</td>\n",
       "      <td>Illinois</td>\n",
       "      <td>13.219113</td>\n",
       "      <td>2024</td>\n",
       "      <td>big_ten</td>\n",
       "    </tr>\n",
       "    <tr>\n",
       "      <th>17</th>\n",
       "      <td>1246</td>\n",
       "      <td>Kentucky</td>\n",
       "      <td>13.056008</td>\n",
       "      <td>2024</td>\n",
       "      <td>sec</td>\n",
       "    </tr>\n",
       "    <tr>\n",
       "      <th>18</th>\n",
       "      <td>1232</td>\n",
       "      <td>Indiana St</td>\n",
       "      <td>12.280371</td>\n",
       "      <td>2024</td>\n",
       "      <td>mvc</td>\n",
       "    </tr>\n",
       "    <tr>\n",
       "      <th>19</th>\n",
       "      <td>1173</td>\n",
       "      <td>Dayton</td>\n",
       "      <td>12.081596</td>\n",
       "      <td>2024</td>\n",
       "      <td>a_ten</td>\n",
       "    </tr>\n",
       "    <tr>\n",
       "      <th>20</th>\n",
       "      <td>1242</td>\n",
       "      <td>Kansas</td>\n",
       "      <td>11.946450</td>\n",
       "      <td>2024</td>\n",
       "      <td>big_twelve</td>\n",
       "    </tr>\n",
       "    <tr>\n",
       "      <th>21</th>\n",
       "      <td>1266</td>\n",
       "      <td>Marquette</td>\n",
       "      <td>11.789525</td>\n",
       "      <td>2024</td>\n",
       "      <td>big_east</td>\n",
       "    </tr>\n",
       "    <tr>\n",
       "      <th>22</th>\n",
       "      <td>1241</td>\n",
       "      <td>James Madison</td>\n",
       "      <td>11.076797</td>\n",
       "      <td>2024</td>\n",
       "      <td>sun_belt</td>\n",
       "    </tr>\n",
       "    <tr>\n",
       "      <th>23</th>\n",
       "      <td>1400</td>\n",
       "      <td>Texas</td>\n",
       "      <td>11.049450</td>\n",
       "      <td>2024</td>\n",
       "      <td>big_twelve</td>\n",
       "    </tr>\n",
       "    <tr>\n",
       "      <th>24</th>\n",
       "      <td>1395</td>\n",
       "      <td>TCU</td>\n",
       "      <td>11.024001</td>\n",
       "      <td>2024</td>\n",
       "      <td>big_twelve</td>\n",
       "    </tr>\n",
       "  </tbody>\n",
       "</table>\n",
       "</div>"
      ],
      "text/plain": [
       "    TeamID        TeamName        srs  Season  ConfAbbrev\n",
       "0     1222         Houston  21.767271    2024  big_twelve\n",
       "1     1112         Arizona  20.138181    2024  pac_twelve\n",
       "2     1345          Purdue  18.077183    2024     big_ten\n",
       "3     1397       Tennessee  17.557444    2024         sec\n",
       "4     1388    St Mary's CA  17.351457    2024         wcc\n",
       "5     1235         Iowa St  17.020916    2024  big_twelve\n",
       "6     1211         Gonzaga  17.001786    2024         wcc\n",
       "7     1120          Auburn  16.953237    2024         sec\n",
       "8     1163     Connecticut  15.966067    2024    big_east\n",
       "9     1104         Alabama  15.634907    2024         sec\n",
       "10    1314  North Carolina  15.470205    2024         acc\n",
       "11    1124          Baylor  15.231179    2024  big_twelve\n",
       "12    1181            Duke  15.184411    2024         acc\n",
       "13    1140             BYU  14.480231    2024  big_twelve\n",
       "14    1166       Creighton  13.567023    2024    big_east\n",
       "15    1270      McNeese St  13.423995    2024   southland\n",
       "16    1228        Illinois  13.219113    2024     big_ten\n",
       "17    1246        Kentucky  13.056008    2024         sec\n",
       "18    1232      Indiana St  12.280371    2024         mvc\n",
       "19    1173          Dayton  12.081596    2024       a_ten\n",
       "20    1242          Kansas  11.946450    2024  big_twelve\n",
       "21    1266       Marquette  11.789525    2024    big_east\n",
       "22    1241   James Madison  11.076797    2024    sun_belt\n",
       "23    1400           Texas  11.049450    2024  big_twelve\n",
       "24    1395             TCU  11.024001    2024  big_twelve"
      ]
     },
     "execution_count": 23,
     "metadata": {},
     "output_type": "execute_result"
    }
   ],
   "source": [
    "srs.sort_values('srs', ascending=False)\\\n",
    "   .head(25)\\\n",
    "   .reset_index(drop=True)"
   ]
  },
  {
   "cell_type": "code",
   "execution_count": null,
   "id": "094bd9ca",
   "metadata": {},
   "outputs": [],
   "source": []
  }
 ],
 "metadata": {
  "kaggle": {
   "accelerator": "none",
   "dataSources": [
    {
     "databundleVersionId": 8023814,
     "sourceId": 70068,
     "sourceType": "competition"
    }
   ],
   "dockerImageVersionId": 30673,
   "isGpuEnabled": false,
   "isInternetEnabled": true,
   "language": "python",
   "sourceType": "notebook"
  },
  "kernelspec": {
   "display_name": "Python 3",
   "language": "python",
   "name": "python3"
  },
  "language_info": {
   "codemirror_mode": {
    "name": "ipython",
    "version": 3
   },
   "file_extension": ".py",
   "mimetype": "text/x-python",
   "name": "python",
   "nbconvert_exporter": "python",
   "pygments_lexer": "ipython3",
   "version": "3.10.13"
  },
  "papermill": {
   "default_parameters": {},
   "duration": 7.841398,
   "end_time": "2024-03-24T23:49:44.776614",
   "environment_variables": {},
   "exception": null,
   "input_path": "__notebook__.ipynb",
   "output_path": "__notebook__.ipynb",
   "parameters": {},
   "start_time": "2024-03-24T23:49:36.935216",
   "version": "2.5.0"
  }
 },
 "nbformat": 4,
 "nbformat_minor": 5
}
